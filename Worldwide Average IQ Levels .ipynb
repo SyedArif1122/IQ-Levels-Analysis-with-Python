{
 "cells": [
  {
   "cell_type": "markdown",
   "id": "c068a1d0",
   "metadata": {},
   "source": [
    "# Worldwide Average IQ Levels Analysis with Python"
   ]
  },
  {
   "cell_type": "markdown",
   "id": "1b3ba75c",
   "metadata": {},
   "source": [
    "Certainly! To explore the \"Worldwide Average IQ Levels and Socioeconomic Factors Dataset\" for your Jupyter file project, you can use Python along with popular data analysis libraries such as Pandas, NumPy, and Matplotlib. Below is a brief description of how you can approach this project:\n",
    "\n",
    "Project Description\n",
    "Objective:\n",
    "The goal of this Jupyter file project is to analyze and gain insights into the relationship between average IQ levels and socioeconomic factors across different countries using the \"Worldwide Average IQ Levels and Socioeconomic Factors Dataset.\""
   ]
  },
  {
   "cell_type": "markdown",
   "id": "6ff2a48f",
   "metadata": {},
   "source": [
    "# Import Library"
   ]
  },
  {
   "cell_type": "code",
   "execution_count": 2,
   "id": "df179ad8",
   "metadata": {},
   "outputs": [],
   "source": [
    "import pandas as pd"
   ]
  },
  {
   "cell_type": "code",
   "execution_count": 3,
   "id": "517a0fd1",
   "metadata": {},
   "outputs": [
    {
     "name": "stderr",
     "output_type": "stream",
     "text": [
      "C:\\Users\\Syed Arif\\anaconda3\\lib\\site-packages\\scipy\\__init__.py:146: UserWarning: A NumPy version >=1.16.5 and <1.23.0 is required for this version of SciPy (detected version 1.25.1\n",
      "  warnings.warn(f\"A NumPy version >={np_minversion} and <{np_maxversion}\"\n"
     ]
    }
   ],
   "source": [
    "import pandas as pd\n",
    "import seaborn as sns\n",
    "import matplotlib.pyplot as plt\n",
    "import seaborn as sns"
   ]
  },
  {
   "cell_type": "markdown",
   "id": "4b0eb245",
   "metadata": {},
   "source": [
    "# Uploading Csv fle"
   ]
  },
  {
   "cell_type": "code",
   "execution_count": 4,
   "id": "ddda5ead",
   "metadata": {},
   "outputs": [],
   "source": [
    "df = pd.read_csv(r\"C:\\Users\\Syed Arif\\Desktop\\IQ_level.csv\")"
   ]
  },
  {
   "cell_type": "markdown",
   "id": "c5597201",
   "metadata": {},
   "source": [
    "# Data Preprocessing\n"
   ]
  },
  {
   "cell_type": "markdown",
   "id": "aace63f6",
   "metadata": {},
   "source": [
    "# .head()"
   ]
  },
  {
   "cell_type": "markdown",
   "id": "b7a66965",
   "metadata": {},
   "source": [
    "head is used show to the By default = 5 rows in the dataset"
   ]
  },
  {
   "cell_type": "code",
   "execution_count": 5,
   "id": "1c714689",
   "metadata": {},
   "outputs": [
    {
     "data": {
      "text/html": [
       "<div>\n",
       "<style scoped>\n",
       "    .dataframe tbody tr th:only-of-type {\n",
       "        vertical-align: middle;\n",
       "    }\n",
       "\n",
       "    .dataframe tbody tr th {\n",
       "        vertical-align: top;\n",
       "    }\n",
       "\n",
       "    .dataframe thead th {\n",
       "        text-align: right;\n",
       "    }\n",
       "</style>\n",
       "<table border=\"1\" class=\"dataframe\">\n",
       "  <thead>\n",
       "    <tr style=\"text-align: right;\">\n",
       "      <th></th>\n",
       "      <th>rank</th>\n",
       "      <th>country</th>\n",
       "      <th>IQ</th>\n",
       "      <th>education_expenditure</th>\n",
       "      <th>avg_income</th>\n",
       "      <th>avg_temp</th>\n",
       "    </tr>\n",
       "  </thead>\n",
       "  <tbody>\n",
       "    <tr>\n",
       "      <th>0</th>\n",
       "      <td>1</td>\n",
       "      <td>Hong Kong</td>\n",
       "      <td>106</td>\n",
       "      <td>1283.0</td>\n",
       "      <td>35304.0</td>\n",
       "      <td>26.2</td>\n",
       "    </tr>\n",
       "    <tr>\n",
       "      <th>1</th>\n",
       "      <td>2</td>\n",
       "      <td>Japan</td>\n",
       "      <td>106</td>\n",
       "      <td>1340.0</td>\n",
       "      <td>40964.0</td>\n",
       "      <td>19.2</td>\n",
       "    </tr>\n",
       "    <tr>\n",
       "      <th>2</th>\n",
       "      <td>3</td>\n",
       "      <td>Singapore</td>\n",
       "      <td>106</td>\n",
       "      <td>1428.0</td>\n",
       "      <td>41100.0</td>\n",
       "      <td>31.5</td>\n",
       "    </tr>\n",
       "    <tr>\n",
       "      <th>3</th>\n",
       "      <td>4</td>\n",
       "      <td>Taiwan</td>\n",
       "      <td>106</td>\n",
       "      <td>NaN</td>\n",
       "      <td>NaN</td>\n",
       "      <td>26.9</td>\n",
       "    </tr>\n",
       "    <tr>\n",
       "      <th>4</th>\n",
       "      <td>5</td>\n",
       "      <td>China</td>\n",
       "      <td>104</td>\n",
       "      <td>183.0</td>\n",
       "      <td>4654.0</td>\n",
       "      <td>19.1</td>\n",
       "    </tr>\n",
       "  </tbody>\n",
       "</table>\n",
       "</div>"
      ],
      "text/plain": [
       "   rank     country   IQ  education_expenditure  avg_income  avg_temp\n",
       "0     1  Hong Kong   106                 1283.0     35304.0      26.2\n",
       "1     2       Japan  106                 1340.0     40964.0      19.2\n",
       "2     3   Singapore  106                 1428.0     41100.0      31.5\n",
       "3     4     Taiwan   106                    NaN         NaN      26.9\n",
       "4     5       China  104                  183.0      4654.0      19.1"
      ]
     },
     "execution_count": 5,
     "metadata": {},
     "output_type": "execute_result"
    }
   ],
   "source": [
    "df.head()"
   ]
  },
  {
   "cell_type": "markdown",
   "id": "8684a0d2",
   "metadata": {},
   "source": [
    "# .tail()"
   ]
  },
  {
   "cell_type": "markdown",
   "id": "dc1a3074",
   "metadata": {},
   "source": [
    "tail is used to show rows by Descending order"
   ]
  },
  {
   "cell_type": "code",
   "execution_count": 6,
   "id": "13069e51",
   "metadata": {},
   "outputs": [
    {
     "data": {
      "text/html": [
       "<div>\n",
       "<style scoped>\n",
       "    .dataframe tbody tr th:only-of-type {\n",
       "        vertical-align: middle;\n",
       "    }\n",
       "\n",
       "    .dataframe tbody tr th {\n",
       "        vertical-align: top;\n",
       "    }\n",
       "\n",
       "    .dataframe thead th {\n",
       "        text-align: right;\n",
       "    }\n",
       "</style>\n",
       "<table border=\"1\" class=\"dataframe\">\n",
       "  <thead>\n",
       "    <tr style=\"text-align: right;\">\n",
       "      <th></th>\n",
       "      <th>rank</th>\n",
       "      <th>country</th>\n",
       "      <th>IQ</th>\n",
       "      <th>education_expenditure</th>\n",
       "      <th>avg_income</th>\n",
       "      <th>avg_temp</th>\n",
       "    </tr>\n",
       "  </thead>\n",
       "  <tbody>\n",
       "    <tr>\n",
       "      <th>103</th>\n",
       "      <td>104</td>\n",
       "      <td>Equatorial Guinea</td>\n",
       "      <td>56</td>\n",
       "      <td>NaN</td>\n",
       "      <td>7625.0</td>\n",
       "      <td>29.9</td>\n",
       "    </tr>\n",
       "    <tr>\n",
       "      <th>104</th>\n",
       "      <td>105</td>\n",
       "      <td>Gambia</td>\n",
       "      <td>55</td>\n",
       "      <td>14.0</td>\n",
       "      <td>648.0</td>\n",
       "      <td>32.9</td>\n",
       "    </tr>\n",
       "    <tr>\n",
       "      <th>105</th>\n",
       "      <td>106</td>\n",
       "      <td>Guatemala</td>\n",
       "      <td>55</td>\n",
       "      <td>92.0</td>\n",
       "      <td>2830.0</td>\n",
       "      <td>32.1</td>\n",
       "    </tr>\n",
       "    <tr>\n",
       "      <th>106</th>\n",
       "      <td>107</td>\n",
       "      <td>Sierra Leone</td>\n",
       "      <td>52</td>\n",
       "      <td>16.0</td>\n",
       "      <td>412.0</td>\n",
       "      <td>30.4</td>\n",
       "    </tr>\n",
       "    <tr>\n",
       "      <th>107</th>\n",
       "      <td>108</td>\n",
       "      <td>Nepal</td>\n",
       "      <td>51</td>\n",
       "      <td>22.0</td>\n",
       "      <td>595.0</td>\n",
       "      <td>24.6</td>\n",
       "    </tr>\n",
       "  </tbody>\n",
       "</table>\n",
       "</div>"
      ],
      "text/plain": [
       "     rank            country  IQ  education_expenditure  avg_income  avg_temp\n",
       "103   104  Equatorial Guinea  56                    NaN      7625.0      29.9\n",
       "104   105             Gambia  55                   14.0       648.0      32.9\n",
       "105   106          Guatemala  55                   92.0      2830.0      32.1\n",
       "106   107       Sierra Leone  52                   16.0       412.0      30.4\n",
       "107   108              Nepal  51                   22.0       595.0      24.6"
      ]
     },
     "execution_count": 6,
     "metadata": {},
     "output_type": "execute_result"
    }
   ],
   "source": [
    "df.tail()"
   ]
  },
  {
   "cell_type": "markdown",
   "id": "e76fc80f",
   "metadata": {},
   "source": [
    "# .shape"
   ]
  },
  {
   "cell_type": "markdown",
   "id": "21d6d5af",
   "metadata": {},
   "source": [
    "It show the total no of rows & Column in the dataset"
   ]
  },
  {
   "cell_type": "code",
   "execution_count": 7,
   "id": "e34d1ec4",
   "metadata": {},
   "outputs": [
    {
     "data": {
      "text/plain": [
       "(108, 6)"
      ]
     },
     "execution_count": 7,
     "metadata": {},
     "output_type": "execute_result"
    }
   ],
   "source": [
    "df.shape"
   ]
  },
  {
   "cell_type": "markdown",
   "id": "618b8c56",
   "metadata": {},
   "source": [
    "# .Columns"
   ]
  },
  {
   "cell_type": "markdown",
   "id": "81d5b891",
   "metadata": {},
   "source": [
    "It show the no of each Column"
   ]
  },
  {
   "cell_type": "code",
   "execution_count": 8,
   "id": "d90a23ca",
   "metadata": {},
   "outputs": [
    {
     "data": {
      "text/plain": [
       "Index(['rank', 'country', 'IQ', 'education_expenditure', 'avg_income',\n",
       "       'avg_temp'],\n",
       "      dtype='object')"
      ]
     },
     "execution_count": 8,
     "metadata": {},
     "output_type": "execute_result"
    }
   ],
   "source": [
    "df.columns"
   ]
  },
  {
   "cell_type": "markdown",
   "id": "4c3f8320",
   "metadata": {},
   "source": [
    "# .dtypes"
   ]
  },
  {
   "cell_type": "markdown",
   "id": "19881edc",
   "metadata": {},
   "source": [
    "This Attribute show the data type of each column"
   ]
  },
  {
   "cell_type": "code",
   "execution_count": 9,
   "id": "4a5c7bdd",
   "metadata": {},
   "outputs": [
    {
     "data": {
      "text/plain": [
       "rank                       int64\n",
       "country                   object\n",
       "IQ                         int64\n",
       "education_expenditure    float64\n",
       "avg_income               float64\n",
       "avg_temp                 float64\n",
       "dtype: object"
      ]
     },
     "execution_count": 9,
     "metadata": {},
     "output_type": "execute_result"
    }
   ],
   "source": [
    "df.dtypes"
   ]
  },
  {
   "cell_type": "markdown",
   "id": "f641048a",
   "metadata": {},
   "source": [
    "# .unique()"
   ]
  },
  {
   "cell_type": "markdown",
   "id": "bf6d4f5e",
   "metadata": {},
   "source": [
    "In a column, It show the unique value of specific column."
   ]
  },
  {
   "cell_type": "code",
   "execution_count": 10,
   "id": "bb0f0dd0",
   "metadata": {},
   "outputs": [
    {
     "data": {
      "text/plain": [
       "array(['Hong Kong\\xa0', 'Japan', 'Singapore', 'Taiwan\\xa0', 'China',\n",
       "       'South Korea', 'Netherlands', 'Finland', 'Canada', 'North Korea',\n",
       "       'Luxembourg', 'Macao\\xa0', 'Germany', 'Switzerland', 'Estonia',\n",
       "       'Australia', 'United Kingdom', 'Greenland\\xa0', 'Iceland',\n",
       "       'Austria', 'Hungary', 'New Zealand', 'Belgium', 'Norway', 'Sweden',\n",
       "       'Denmark', 'Cambodia', 'France', 'United States', 'Poland',\n",
       "       'Czechia', 'Russia', 'Spain', 'Ireland', 'Italy', 'Croatia',\n",
       "       'Lithuania', 'Israel', 'Mongolia', 'Portugal', 'Bermuda\\xa0',\n",
       "       'Bulgaria', 'Greece', 'Ukraine', 'Vietnam', 'Kazakhstan',\n",
       "       'Malaysia', 'Myanmar', 'Thailand', 'Serbia', 'Brunei', 'Chile',\n",
       "       'Costa Rica', 'Iraq', 'Romania', 'Argentina', 'Mauritius',\n",
       "       'Mexico', 'Turkey', 'Georgia', 'Sri Lanka', 'Montenegro', 'Cuba',\n",
       "       'Brazil', 'Philippines', 'Colombia', 'Laos', 'Venezuela',\n",
       "       'Albania', 'United Arab Emirates', 'Dominican Republic',\n",
       "       'Puerto Rico\\xa0', 'Afghanistan', 'Iran', 'Pakistan', 'Indonesia',\n",
       "       'Kuwait', 'Oman', 'Qatar', 'Bolivia', 'Ecuador', 'Egypt',\n",
       "       'Algeria', 'India', 'Saudi Arabia', 'Sudan', 'Syria', 'Bangladesh',\n",
       "       'Chad', 'East Timor', 'Kenya', 'Zimbabwe', 'El Salvador',\n",
       "       'Morocco', 'South Africa', 'Niger', 'Somalia', 'Nigeria',\n",
       "       'Ethiopia', 'Cameroon', 'Congo', 'Ghana', 'Ivory Coast',\n",
       "       'Equatorial Guinea', 'Gambia', 'Guatemala', 'Sierra Leone',\n",
       "       'Nepal'], dtype=object)"
      ]
     },
     "execution_count": 10,
     "metadata": {},
     "output_type": "execute_result"
    }
   ],
   "source": [
    "df[\"country\"].unique()"
   ]
  },
  {
   "cell_type": "markdown",
   "id": "f34840f6",
   "metadata": {},
   "source": [
    "# .nuique()"
   ]
  },
  {
   "cell_type": "markdown",
   "id": "73792a7b",
   "metadata": {},
   "source": [
    "It will show the total no of unque value from whole data frame"
   ]
  },
  {
   "cell_type": "code",
   "execution_count": 11,
   "id": "2e192d57",
   "metadata": {},
   "outputs": [
    {
     "data": {
      "text/plain": [
       "rank                     108\n",
       "country                  108\n",
       "IQ                        40\n",
       "education_expenditure     97\n",
       "avg_income               106\n",
       "avg_temp                  91\n",
       "dtype: int64"
      ]
     },
     "execution_count": 11,
     "metadata": {},
     "output_type": "execute_result"
    }
   ],
   "source": [
    "df.nunique()"
   ]
  },
  {
   "cell_type": "markdown",
   "id": "4d234903",
   "metadata": {},
   "source": [
    "# .describe()"
   ]
  },
  {
   "cell_type": "markdown",
   "id": "dff6dbc9",
   "metadata": {},
   "source": [
    "It show the Count, mean , median etc"
   ]
  },
  {
   "cell_type": "code",
   "execution_count": 12,
   "id": "dba2fda3",
   "metadata": {},
   "outputs": [
    {
     "data": {
      "text/html": [
       "<div>\n",
       "<style scoped>\n",
       "    .dataframe tbody tr th:only-of-type {\n",
       "        vertical-align: middle;\n",
       "    }\n",
       "\n",
       "    .dataframe tbody tr th {\n",
       "        vertical-align: top;\n",
       "    }\n",
       "\n",
       "    .dataframe thead th {\n",
       "        text-align: right;\n",
       "    }\n",
       "</style>\n",
       "<table border=\"1\" class=\"dataframe\">\n",
       "  <thead>\n",
       "    <tr style=\"text-align: right;\">\n",
       "      <th></th>\n",
       "      <th>rank</th>\n",
       "      <th>IQ</th>\n",
       "      <th>education_expenditure</th>\n",
       "      <th>avg_income</th>\n",
       "      <th>avg_temp</th>\n",
       "    </tr>\n",
       "  </thead>\n",
       "  <tbody>\n",
       "    <tr>\n",
       "      <th>count</th>\n",
       "      <td>108.00000</td>\n",
       "      <td>108.000000</td>\n",
       "      <td>103.000000</td>\n",
       "      <td>106.000000</td>\n",
       "      <td>108.000000</td>\n",
       "    </tr>\n",
       "    <tr>\n",
       "      <th>mean</th>\n",
       "      <td>54.50000</td>\n",
       "      <td>85.972222</td>\n",
       "      <td>903.058252</td>\n",
       "      <td>17174.650943</td>\n",
       "      <td>23.858333</td>\n",
       "    </tr>\n",
       "    <tr>\n",
       "      <th>std</th>\n",
       "      <td>31.32092</td>\n",
       "      <td>12.998532</td>\n",
       "      <td>1166.625835</td>\n",
       "      <td>20871.092773</td>\n",
       "      <td>8.392232</td>\n",
       "    </tr>\n",
       "    <tr>\n",
       "      <th>min</th>\n",
       "      <td>1.00000</td>\n",
       "      <td>51.000000</td>\n",
       "      <td>1.000000</td>\n",
       "      <td>316.000000</td>\n",
       "      <td>0.400000</td>\n",
       "    </tr>\n",
       "    <tr>\n",
       "      <th>25%</th>\n",
       "      <td>27.75000</td>\n",
       "      <td>78.750000</td>\n",
       "      <td>81.500000</td>\n",
       "      <td>2263.250000</td>\n",
       "      <td>17.250000</td>\n",
       "    </tr>\n",
       "    <tr>\n",
       "      <th>50%</th>\n",
       "      <td>54.50000</td>\n",
       "      <td>88.000000</td>\n",
       "      <td>336.000000</td>\n",
       "      <td>7533.000000</td>\n",
       "      <td>25.850000</td>\n",
       "    </tr>\n",
       "    <tr>\n",
       "      <th>75%</th>\n",
       "      <td>81.25000</td>\n",
       "      <td>97.000000</td>\n",
       "      <td>1360.000000</td>\n",
       "      <td>30040.000000</td>\n",
       "      <td>31.275000</td>\n",
       "    </tr>\n",
       "    <tr>\n",
       "      <th>max</th>\n",
       "      <td>108.00000</td>\n",
       "      <td>106.000000</td>\n",
       "      <td>5436.000000</td>\n",
       "      <td>108349.000000</td>\n",
       "      <td>36.500000</td>\n",
       "    </tr>\n",
       "  </tbody>\n",
       "</table>\n",
       "</div>"
      ],
      "text/plain": [
       "            rank          IQ  education_expenditure     avg_income    avg_temp\n",
       "count  108.00000  108.000000             103.000000     106.000000  108.000000\n",
       "mean    54.50000   85.972222             903.058252   17174.650943   23.858333\n",
       "std     31.32092   12.998532            1166.625835   20871.092773    8.392232\n",
       "min      1.00000   51.000000               1.000000     316.000000    0.400000\n",
       "25%     27.75000   78.750000              81.500000    2263.250000   17.250000\n",
       "50%     54.50000   88.000000             336.000000    7533.000000   25.850000\n",
       "75%     81.25000   97.000000            1360.000000   30040.000000   31.275000\n",
       "max    108.00000  106.000000            5436.000000  108349.000000   36.500000"
      ]
     },
     "execution_count": 12,
     "metadata": {},
     "output_type": "execute_result"
    }
   ],
   "source": [
    "df.describe()"
   ]
  },
  {
   "cell_type": "markdown",
   "id": "e0a1161b",
   "metadata": {},
   "source": [
    "# .value_counts"
   ]
  },
  {
   "cell_type": "markdown",
   "id": "dcea0077",
   "metadata": {},
   "source": [
    "It Shows all the unique values with their count"
   ]
  },
  {
   "cell_type": "code",
   "execution_count": 13,
   "id": "8a63f82e",
   "metadata": {},
   "outputs": [
    {
     "data": {
      "text/plain": [
       "Hong Kong     1\n",
       "Albania       1\n",
       "Bolivia       1\n",
       "Qatar         1\n",
       "Oman          1\n",
       "             ..\n",
       "Spain         1\n",
       "Russia        1\n",
       "Czechia       1\n",
       "Poland        1\n",
       "Nepal         1\n",
       "Name: country, Length: 108, dtype: int64"
      ]
     },
     "execution_count": 13,
     "metadata": {},
     "output_type": "execute_result"
    }
   ],
   "source": [
    "df[\"country\"].value_counts()"
   ]
  },
  {
   "cell_type": "markdown",
   "id": "f55f4c89",
   "metadata": {},
   "source": [
    "# .isnull()"
   ]
  },
  {
   "cell_type": "markdown",
   "id": "cb961a9d",
   "metadata": {},
   "source": [
    "It shows the how many null values"
   ]
  },
  {
   "cell_type": "code",
   "execution_count": 14,
   "id": "614ae149",
   "metadata": {},
   "outputs": [
    {
     "data": {
      "text/html": [
       "<div>\n",
       "<style scoped>\n",
       "    .dataframe tbody tr th:only-of-type {\n",
       "        vertical-align: middle;\n",
       "    }\n",
       "\n",
       "    .dataframe tbody tr th {\n",
       "        vertical-align: top;\n",
       "    }\n",
       "\n",
       "    .dataframe thead th {\n",
       "        text-align: right;\n",
       "    }\n",
       "</style>\n",
       "<table border=\"1\" class=\"dataframe\">\n",
       "  <thead>\n",
       "    <tr style=\"text-align: right;\">\n",
       "      <th></th>\n",
       "      <th>rank</th>\n",
       "      <th>country</th>\n",
       "      <th>IQ</th>\n",
       "      <th>education_expenditure</th>\n",
       "      <th>avg_income</th>\n",
       "      <th>avg_temp</th>\n",
       "    </tr>\n",
       "  </thead>\n",
       "  <tbody>\n",
       "    <tr>\n",
       "      <th>0</th>\n",
       "      <td>False</td>\n",
       "      <td>False</td>\n",
       "      <td>False</td>\n",
       "      <td>False</td>\n",
       "      <td>False</td>\n",
       "      <td>False</td>\n",
       "    </tr>\n",
       "    <tr>\n",
       "      <th>1</th>\n",
       "      <td>False</td>\n",
       "      <td>False</td>\n",
       "      <td>False</td>\n",
       "      <td>False</td>\n",
       "      <td>False</td>\n",
       "      <td>False</td>\n",
       "    </tr>\n",
       "    <tr>\n",
       "      <th>2</th>\n",
       "      <td>False</td>\n",
       "      <td>False</td>\n",
       "      <td>False</td>\n",
       "      <td>False</td>\n",
       "      <td>False</td>\n",
       "      <td>False</td>\n",
       "    </tr>\n",
       "    <tr>\n",
       "      <th>3</th>\n",
       "      <td>False</td>\n",
       "      <td>False</td>\n",
       "      <td>False</td>\n",
       "      <td>True</td>\n",
       "      <td>True</td>\n",
       "      <td>False</td>\n",
       "    </tr>\n",
       "    <tr>\n",
       "      <th>4</th>\n",
       "      <td>False</td>\n",
       "      <td>False</td>\n",
       "      <td>False</td>\n",
       "      <td>False</td>\n",
       "      <td>False</td>\n",
       "      <td>False</td>\n",
       "    </tr>\n",
       "    <tr>\n",
       "      <th>...</th>\n",
       "      <td>...</td>\n",
       "      <td>...</td>\n",
       "      <td>...</td>\n",
       "      <td>...</td>\n",
       "      <td>...</td>\n",
       "      <td>...</td>\n",
       "    </tr>\n",
       "    <tr>\n",
       "      <th>103</th>\n",
       "      <td>False</td>\n",
       "      <td>False</td>\n",
       "      <td>False</td>\n",
       "      <td>True</td>\n",
       "      <td>False</td>\n",
       "      <td>False</td>\n",
       "    </tr>\n",
       "    <tr>\n",
       "      <th>104</th>\n",
       "      <td>False</td>\n",
       "      <td>False</td>\n",
       "      <td>False</td>\n",
       "      <td>False</td>\n",
       "      <td>False</td>\n",
       "      <td>False</td>\n",
       "    </tr>\n",
       "    <tr>\n",
       "      <th>105</th>\n",
       "      <td>False</td>\n",
       "      <td>False</td>\n",
       "      <td>False</td>\n",
       "      <td>False</td>\n",
       "      <td>False</td>\n",
       "      <td>False</td>\n",
       "    </tr>\n",
       "    <tr>\n",
       "      <th>106</th>\n",
       "      <td>False</td>\n",
       "      <td>False</td>\n",
       "      <td>False</td>\n",
       "      <td>False</td>\n",
       "      <td>False</td>\n",
       "      <td>False</td>\n",
       "    </tr>\n",
       "    <tr>\n",
       "      <th>107</th>\n",
       "      <td>False</td>\n",
       "      <td>False</td>\n",
       "      <td>False</td>\n",
       "      <td>False</td>\n",
       "      <td>False</td>\n",
       "      <td>False</td>\n",
       "    </tr>\n",
       "  </tbody>\n",
       "</table>\n",
       "<p>108 rows × 6 columns</p>\n",
       "</div>"
      ],
      "text/plain": [
       "      rank  country     IQ  education_expenditure  avg_income  avg_temp\n",
       "0    False    False  False                  False       False     False\n",
       "1    False    False  False                  False       False     False\n",
       "2    False    False  False                  False       False     False\n",
       "3    False    False  False                   True        True     False\n",
       "4    False    False  False                  False       False     False\n",
       "..     ...      ...    ...                    ...         ...       ...\n",
       "103  False    False  False                   True       False     False\n",
       "104  False    False  False                  False       False     False\n",
       "105  False    False  False                  False       False     False\n",
       "106  False    False  False                  False       False     False\n",
       "107  False    False  False                  False       False     False\n",
       "\n",
       "[108 rows x 6 columns]"
      ]
     },
     "execution_count": 14,
     "metadata": {},
     "output_type": "execute_result"
    }
   ],
   "source": [
    "df.isnull()"
   ]
  },
  {
   "cell_type": "code",
   "execution_count": 15,
   "id": "483ad1db",
   "metadata": {},
   "outputs": [
    {
     "data": {
      "text/plain": [
       "<AxesSubplot:>"
      ]
     },
     "execution_count": 15,
     "metadata": {},
     "output_type": "execute_result"
    },
    {
     "data": {
      "image/png": "[encoded data removed]",
      "text/plain": [
       "<Figure size 432x288 with 2 Axes>"
      ]
     },
     "metadata": {
      "needs_background": "light"
     },
     "output_type": "display_data"
    }
   ],
   "source": [
    "sns.heatmap(df.isnull())"
   ]
  },
  {
   "cell_type": "code",
   "execution_count": 16,
   "id": "b7e7bfba",
   "metadata": {},
   "outputs": [
    {
     "data": {
      "image/png": "[encoded data removed]",
      "text/plain": [
       "<Figure size 900x900 with 30 Axes>"
      ]
     },
     "metadata": {
      "needs_background": "light"
     },
     "output_type": "display_data"
    }
   ],
   "source": [
    "# Visualizations\n",
    "sns.pairplot(df)\n",
    "plt.show()"
   ]
  },
  {
   "cell_type": "code",
   "execution_count": 18,
   "id": "a0b1641b",
   "metadata": {},
   "outputs": [
    {
     "data": {
      "image/png": "[encoded data removed]",
      "text/plain": [
       "<Figure size 432x288 with 2 Axes>"
      ]
     },
     "metadata": {
      "needs_background": "light"
     },
     "output_type": "display_data"
    }
   ],
   "source": [
    "# Correlation matrix\n",
    "correlation_matrix = df.corr()\n",
    "\n",
    "# Visualize the correlation matrix\n",
    "sns.heatmap(correlation_matrix, annot=True, cmap='coolwarm')\n",
    "plt.title('Correlation Matrix')\n",
    "plt.show()"
   ]
  },
  {
   "cell_type": "code",
   "execution_count": 20,
   "id": "809ae784",
   "metadata": {},
   "outputs": [
    {
     "data": {
      "text/html": [
       "<div>\n",
       "<style scoped>\n",
       "    .dataframe tbody tr th:only-of-type {\n",
       "        vertical-align: middle;\n",
       "    }\n",
       "\n",
       "    .dataframe tbody tr th {\n",
       "        vertical-align: top;\n",
       "    }\n",
       "\n",
       "    .dataframe thead th {\n",
       "        text-align: right;\n",
       "    }\n",
       "</style>\n",
       "<table border=\"1\" class=\"dataframe\">\n",
       "  <thead>\n",
       "    <tr style=\"text-align: right;\">\n",
       "      <th></th>\n",
       "      <th>rank</th>\n",
       "      <th>IQ</th>\n",
       "      <th>education_expenditure</th>\n",
       "      <th>avg_income</th>\n",
       "      <th>avg_temp</th>\n",
       "    </tr>\n",
       "  </thead>\n",
       "  <tbody>\n",
       "    <tr>\n",
       "      <th>rank</th>\n",
       "      <td>1.000000</td>\n",
       "      <td>-0.967082</td>\n",
       "      <td>-0.616040</td>\n",
       "      <td>-0.616719</td>\n",
       "      <td>0.683438</td>\n",
       "    </tr>\n",
       "    <tr>\n",
       "      <th>IQ</th>\n",
       "      <td>-0.967082</td>\n",
       "      <td>1.000000</td>\n",
       "      <td>0.568237</td>\n",
       "      <td>0.569947</td>\n",
       "      <td>-0.628097</td>\n",
       "    </tr>\n",
       "    <tr>\n",
       "      <th>education_expenditure</th>\n",
       "      <td>-0.616040</td>\n",
       "      <td>0.568237</td>\n",
       "      <td>1.000000</td>\n",
       "      <td>0.854779</td>\n",
       "      <td>-0.591675</td>\n",
       "    </tr>\n",
       "    <tr>\n",
       "      <th>avg_income</th>\n",
       "      <td>-0.616719</td>\n",
       "      <td>0.569947</td>\n",
       "      <td>0.854779</td>\n",
       "      <td>1.000000</td>\n",
       "      <td>-0.439526</td>\n",
       "    </tr>\n",
       "    <tr>\n",
       "      <th>avg_temp</th>\n",
       "      <td>0.683438</td>\n",
       "      <td>-0.628097</td>\n",
       "      <td>-0.591675</td>\n",
       "      <td>-0.439526</td>\n",
       "      <td>1.000000</td>\n",
       "    </tr>\n",
       "  </tbody>\n",
       "</table>\n",
       "</div>"
      ],
      "text/plain": [
       "                           rank        IQ  education_expenditure  avg_income  \\\n",
       "rank                   1.000000 -0.967082              -0.616040   -0.616719   \n",
       "IQ                    -0.967082  1.000000               0.568237    0.569947   \n",
       "education_expenditure -0.616040  0.568237               1.000000    0.854779   \n",
       "avg_income            -0.616719  0.569947               0.854779    1.000000   \n",
       "avg_temp               0.683438 -0.628097              -0.591675   -0.439526   \n",
       "\n",
       "                       avg_temp  \n",
       "rank                   0.683438  \n",
       "IQ                    -0.628097  \n",
       "education_expenditure -0.591675  \n",
       "avg_income            -0.439526  \n",
       "avg_temp               1.000000  "
      ]
     },
     "execution_count": 20,
     "metadata": {},
     "output_type": "execute_result"
    }
   ],
   "source": [
    "df.corr()"
   ]
  },
  {
   "cell_type": "code",
   "execution_count": 34,
   "id": "1914b745",
   "metadata": {},
   "outputs": [
    {
     "data": {
      "image/png": "[encoded data removed]",
      "text/plain": [
       "<Figure size 432x288 with 1 Axes>"
      ]
     },
     "metadata": {
      "needs_background": "light"
     },
     "output_type": "display_data"
    }
   ],
   "source": [
    "# Scatter plot to analyze the impact of education expenses on IQ\n",
    "plt.scatter(df['education_expenditure'], df['IQ'])\n",
    "plt.xlabel('Education Expenditure')\n",
    "plt.ylabel('IQ')\n",
    "plt.title('Education Expenditure vs. IQ')\n",
    "plt.show()"
   ]
  },
  {
   "cell_type": "code",
   "execution_count": 38,
   "id": "6a130a26",
   "metadata": {},
   "outputs": [
    {
     "name": "stdout",
     "output_type": "stream",
     "text": [
      "   rank      country   IQ  education_expenditure  avg_income  avg_temp\n",
      "0     1   Hong Kong   106                 1283.0     35304.0      26.2\n",
      "1     2        Japan  106                 1340.0     40964.0      19.2\n",
      "2     3    Singapore  106                 1428.0     41100.0      31.5\n",
      "3     4      Taiwan   106                    NaN         NaN      26.9\n",
      "4     5        China  104                  183.0      4654.0      19.1\n",
      "5     6  South Korea  103                 1024.0     22805.0      18.2\n",
      "6     7  Netherlands  101                 2386.0     45337.0      14.4\n",
      "7     8      Finland  101                 2725.0     42706.0       8.2\n",
      "8     9       Canada  100                 2052.0     40207.0       7.4\n",
      "9    10  North Korea  100                    NaN         NaN      15.3\n"
     ]
    }
   ],
   "source": [
    "# Select the top 10 countries\n",
    "top_10_countries = df.sort_values(by='rank').head(10)\n",
    "\n",
    "# Display the result\n",
    "print(top_10_countries)"
   ]
  },
  {
   "cell_type": "code",
   "execution_count": 40,
   "id": "2c72c533",
   "metadata": {},
   "outputs": [
    {
     "data": {
      "image/png": "[encoded data removed]",
      "text/plain": [
       "<Figure size 576x432 with 1 Axes>"
      ]
     },
     "metadata": {
      "needs_background": "light"
     },
     "output_type": "display_data"
    }
   ],
   "source": [
    "plt.figure(figsize=(8, 6))\n",
    "sns.barplot(data=top_10_countries , x='country', y ='rank')\n",
    "plt.title('Top 10 Countries')\n",
    "plt.xlabel('country')\n",
    "plt.ylabel('rank')\n",
    "plt.tight_layout()\n",
    "plt.show()"
   ]
  },
  {
   "cell_type": "code",
   "execution_count": 42,
   "id": "9970ba58",
   "metadata": {},
   "outputs": [
    {
     "data": {
      "text/html": [
       "<div>\n",
       "<style scoped>\n",
       "    .dataframe tbody tr th:only-of-type {\n",
       "        vertical-align: middle;\n",
       "    }\n",
       "\n",
       "    .dataframe tbody tr th {\n",
       "        vertical-align: top;\n",
       "    }\n",
       "\n",
       "    .dataframe thead th {\n",
       "        text-align: right;\n",
       "    }\n",
       "</style>\n",
       "<table border=\"1\" class=\"dataframe\">\n",
       "  <thead>\n",
       "    <tr style=\"text-align: right;\">\n",
       "      <th></th>\n",
       "      <th>rank</th>\n",
       "      <th>country</th>\n",
       "      <th>IQ</th>\n",
       "      <th>education_expenditure</th>\n",
       "      <th>avg_income</th>\n",
       "      <th>avg_temp</th>\n",
       "    </tr>\n",
       "  </thead>\n",
       "  <tbody>\n",
       "    <tr>\n",
       "      <th>107</th>\n",
       "      <td>108</td>\n",
       "      <td>Nepal</td>\n",
       "      <td>51</td>\n",
       "      <td>22.0</td>\n",
       "      <td>595.0</td>\n",
       "      <td>24.6</td>\n",
       "    </tr>\n",
       "    <tr>\n",
       "      <th>106</th>\n",
       "      <td>107</td>\n",
       "      <td>Sierra Leone</td>\n",
       "      <td>52</td>\n",
       "      <td>16.0</td>\n",
       "      <td>412.0</td>\n",
       "      <td>30.4</td>\n",
       "    </tr>\n",
       "    <tr>\n",
       "      <th>105</th>\n",
       "      <td>106</td>\n",
       "      <td>Guatemala</td>\n",
       "      <td>55</td>\n",
       "      <td>92.0</td>\n",
       "      <td>2830.0</td>\n",
       "      <td>32.1</td>\n",
       "    </tr>\n",
       "    <tr>\n",
       "      <th>104</th>\n",
       "      <td>105</td>\n",
       "      <td>Gambia</td>\n",
       "      <td>55</td>\n",
       "      <td>14.0</td>\n",
       "      <td>648.0</td>\n",
       "      <td>32.9</td>\n",
       "    </tr>\n",
       "    <tr>\n",
       "      <th>103</th>\n",
       "      <td>104</td>\n",
       "      <td>Equatorial Guinea</td>\n",
       "      <td>56</td>\n",
       "      <td>NaN</td>\n",
       "      <td>7625.0</td>\n",
       "      <td>29.9</td>\n",
       "    </tr>\n",
       "    <tr>\n",
       "      <th>102</th>\n",
       "      <td>103</td>\n",
       "      <td>Ivory Coast</td>\n",
       "      <td>61</td>\n",
       "      <td>69.0</td>\n",
       "      <td>1289.0</td>\n",
       "      <td>32.2</td>\n",
       "    </tr>\n",
       "    <tr>\n",
       "      <th>101</th>\n",
       "      <td>102</td>\n",
       "      <td>Ghana</td>\n",
       "      <td>61</td>\n",
       "      <td>76.0</td>\n",
       "      <td>1166.0</td>\n",
       "      <td>32.1</td>\n",
       "    </tr>\n",
       "    <tr>\n",
       "      <th>100</th>\n",
       "      <td>101</td>\n",
       "      <td>Congo</td>\n",
       "      <td>64</td>\n",
       "      <td>7.0</td>\n",
       "      <td>316.0</td>\n",
       "      <td>30.4</td>\n",
       "    </tr>\n",
       "    <tr>\n",
       "      <th>99</th>\n",
       "      <td>100</td>\n",
       "      <td>Cameroon</td>\n",
       "      <td>67</td>\n",
       "      <td>36.0</td>\n",
       "      <td>1234.0</td>\n",
       "      <td>31.1</td>\n",
       "    </tr>\n",
       "    <tr>\n",
       "      <th>98</th>\n",
       "      <td>99</td>\n",
       "      <td>Ethiopia</td>\n",
       "      <td>67</td>\n",
       "      <td>21.0</td>\n",
       "      <td>379.0</td>\n",
       "      <td>27.2</td>\n",
       "    </tr>\n",
       "  </tbody>\n",
       "</table>\n",
       "</div>"
      ],
      "text/plain": [
       "     rank            country  IQ  education_expenditure  avg_income  avg_temp\n",
       "107   108              Nepal  51                   22.0       595.0      24.6\n",
       "106   107       Sierra Leone  52                   16.0       412.0      30.4\n",
       "105   106          Guatemala  55                   92.0      2830.0      32.1\n",
       "104   105             Gambia  55                   14.0       648.0      32.9\n",
       "103   104  Equatorial Guinea  56                    NaN      7625.0      29.9\n",
       "102   103        Ivory Coast  61                   69.0      1289.0      32.2\n",
       "101   102              Ghana  61                   76.0      1166.0      32.1\n",
       "100   101              Congo  64                    7.0       316.0      30.4\n",
       "99    100           Cameroon  67                   36.0      1234.0      31.1\n",
       "98     99           Ethiopia  67                   21.0       379.0      27.2"
      ]
     },
     "execution_count": 42,
     "metadata": {},
     "output_type": "execute_result"
    }
   ],
   "source": [
    "# Select the top 10 countries\n",
    "Bottom_10_countries = df.sort_values(by='rank',ascending = False).head(10)\n",
    "Bottom_10_countries"
   ]
  },
  {
   "cell_type": "code",
   "execution_count": 49,
   "id": "fb838e06",
   "metadata": {},
   "outputs": [
    {
     "data": {
      "image/png": "[encoded data removed]",
      "text/plain": [
       "<Figure size 576x432 with 1 Axes>"
      ]
     },
     "metadata": {
      "needs_background": "light"
     },
     "output_type": "display_data"
    }
   ],
   "source": [
    "plt.figure(figsize=(8, 6))\n",
    "sns.barplot(data=Bottom_10_countries , x='country', y ='rank')\n",
    "plt.title('Bottom 10 Countries')\n",
    "plt.xlabel('country')\n",
    "plt.ylabel('rank')\n",
    "plt.tight_layout()\n",
    "plt.show()"
   ]
  },
  {
   "cell_type": "code",
   "execution_count": 44,
   "id": "8f175c2c",
   "metadata": {},
   "outputs": [
    {
     "data": {
      "text/html": [
       "<div>\n",
       "<style scoped>\n",
       "    .dataframe tbody tr th:only-of-type {\n",
       "        vertical-align: middle;\n",
       "    }\n",
       "\n",
       "    .dataframe tbody tr th {\n",
       "        vertical-align: top;\n",
       "    }\n",
       "\n",
       "    .dataframe thead th {\n",
       "        text-align: right;\n",
       "    }\n",
       "</style>\n",
       "<table border=\"1\" class=\"dataframe\">\n",
       "  <thead>\n",
       "    <tr style=\"text-align: right;\">\n",
       "      <th></th>\n",
       "      <th>rank</th>\n",
       "      <th>country</th>\n",
       "      <th>IQ</th>\n",
       "      <th>education_expenditure</th>\n",
       "      <th>avg_income</th>\n",
       "      <th>avg_temp</th>\n",
       "    </tr>\n",
       "  </thead>\n",
       "  <tbody>\n",
       "    <tr>\n",
       "      <th>74</th>\n",
       "      <td>75</td>\n",
       "      <td>Pakistan</td>\n",
       "      <td>81</td>\n",
       "      <td>27.0</td>\n",
       "      <td>985.0</td>\n",
       "      <td>30.9</td>\n",
       "    </tr>\n",
       "  </tbody>\n",
       "</table>\n",
       "</div>"
      ],
      "text/plain": [
       "    rank   country  IQ  education_expenditure  avg_income  avg_temp\n",
       "74    75  Pakistan  81                   27.0       985.0      30.9"
      ]
     },
     "execution_count": 44,
     "metadata": {},
     "output_type": "execute_result"
    }
   ],
   "source": [
    "df[df['country'] == \"Pakistan\"]"
   ]
  },
  {
   "cell_type": "code",
   "execution_count": 45,
   "id": "9b1cd9e9",
   "metadata": {},
   "outputs": [
    {
     "data": {
      "image/png": "[encoded data removed]",
      "text/plain": [
       "<Figure size 432x288 with 1 Axes>"
      ]
     },
     "metadata": {
      "needs_background": "light"
     },
     "output_type": "display_data"
    }
   ],
   "source": [
    "# Scatter plot to analyze the impact of education expenses on IQ\n",
    "plt.scatter(df['avg_income'], df['IQ'])\n",
    "plt.xlabel('Average income')\n",
    "plt.ylabel('IQ')\n",
    "plt.title('Average income vs. IQ')\n",
    "plt.show()"
   ]
  }
 ],
 "metadata": {
  "kernelspec": {
   "display_name": "Python 3 (ipykernel)",
   "language": "python",
   "name": "python3"
  },
  "language_info": {
   "codemirror_mode": {
    "name": "ipython",
    "version": 3
   },
   "file_extension": ".py",
   "mimetype": "text/x-python",
   "name": "python",
   "nbconvert_exporter": "python",
   "pygments_lexer": "ipython3",
   "version": "3.9.12"
  }
 },
 "nbformat": 4,
 "nbformat_minor": 5
}
